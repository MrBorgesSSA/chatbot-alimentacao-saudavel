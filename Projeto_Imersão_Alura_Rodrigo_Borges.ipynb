{
  "nbformat": 4,
  "nbformat_minor": 0,
  "metadata": {
    "colab": {
      "provenance": [],
      "authorship_tag": "ABX9TyM/NwXHAJnOsNz/ZzNvVxrI",
      "include_colab_link": true
    },
    "kernelspec": {
      "name": "python3",
      "display_name": "Python 3"
    },
    "language_info": {
      "name": "python"
    }
  },
  "cells": [
    {
      "cell_type": "markdown",
      "metadata": {
        "id": "view-in-github",
        "colab_type": "text"
      },
      "source": [
        "<a href=\"https://colab.research.google.com/github/MrBorgesSSA/chatbot-alimentacao-saudavel/blob/main/Projeto_Imers%C3%A3o_Alura_Rodrigo_Borges.ipynb\" target=\"_parent\"><img src=\"https://colab.research.google.com/assets/colab-badge.svg\" alt=\"Open In Colab\"/></a>"
      ]
    },
    {
      "cell_type": "code",
      "execution_count": 27,
      "metadata": {
        "id": "OHQjnhKviTLv"
      },
      "outputs": [],
      "source": [
        "!pip install -q -U google-generativeai\n",
        "\n",
        "# Import the Python SDK\n",
        "import google.generativeai as genai\n",
        "from IPython.display import display, Markdown, Latex\n",
        "from google.colab import userdata\n",
        "\n",
        "apiKey = userdata.get(\"API_KEY\")\n",
        "\n",
        "genai.configure(api_key=apiKey)"
      ]
    },
    {
      "cell_type": "code",
      "source": [
        "generation_config = {\n",
        "    \"temperature\": 0.5,\n",
        "    \"candidate_count\": 1\n",
        "}"
      ],
      "metadata": {
        "id": "ASqk-TsokpwU"
      },
      "execution_count": 28,
      "outputs": []
    },
    {
      "cell_type": "code",
      "source": [
        "model = genai.GenerativeModel(\"gemini-1.0-pro\", generation_config=generation_config)"
      ],
      "metadata": {
        "id": "qNIQDELYk9Hv"
      },
      "execution_count": 29,
      "outputs": []
    },
    {
      "cell_type": "code",
      "source": [
        "print(\"Bem-vindo ao ChatBot - Alimentação Saudável 🍽️\")\n",
        "print(\"Irei fazer uma avaliação de seu IMC, e sugerir uma alimentação saudável e balanceada especialmente para você. 🥰\")\n",
        "print(\"Para te oferecer o melhor cardápio é necessário que me passe algumas informações. Para isso é necessário que responda algumas poucas perguntas.\")\n",
        "print(\"------------------------------------------------------------------------------------------------------------------------------------------------\")\n",
        "\n",
        "dadosCerto = False\n",
        "while(dadosCerto == False):\n",
        "  nome = input(\"Vamos começar, me informe o seu nome: \")\n",
        "  idade = int(input(\"Agora, me informe a sua idade. Informe apenas número (ex. 43): \"))\n",
        "  altura = input(\"Informe a sua altura (ex. 1,78): \")\n",
        "  peso = input(\"Informe o seu peso em kg (ex. 77,3): \")\n",
        "  sexo = input(\"Informe o seu sexo. Escreva M para masculino ou F para feminino: \")\n",
        "  print(\"------------------------------------------------------------------------------------------------------------------------------------------------\")\n",
        "  print(\"Estes foram os dados coletados: \")\n",
        "  print(f\"Nome: {nome}\")\n",
        "  print(f\"Idade: {idade}\")\n",
        "  print(f\"Altura: {altura}\")\n",
        "  print(f\"Peso: {peso}\")\n",
        "  print(f\"Sexo: {sexo}\")\n",
        "  resposta = input(\"Estes dados estão corretos ? (Sim ou Não): \")\n",
        "  dadosCerto = True if ( resposta.upper() == \"S\" or resposta.upper() == \"SIM\" ) else False\n",
        "\n",
        "print(\"👍 Ótimo, agora vamos vamos agora calcular o seu IMC 👍\")\n",
        "\n",
        "print(\"⏳Aguarde, estamos calculando o seu IMC ⏳\")\n",
        "prompt = f\"Considerando que você seja um médico. Calcule o Índice de Massa Corporal IMC de uma pessoa com as seguintes características: Idade {idade} anos, altura {altura}m, com peso de {peso}kg e do sexo {'feminino' if sexo.upper() == 'F' else 'masculino'}. Ao final, informe as características relacionadas ao IMC correspondente.\"\n",
        "chat = model.start_chat(history=[])\n",
        "resposta = chat.send_message(prompt)\n",
        "print(\"------------------------------------------------------------------------------------------------------------------------------------------------\")\n",
        "print(\"|                                                         ÍNDICE DE MASSA CORPORAL                                                             |\")\n",
        "print(\"------------------------------------------------------------------------------------------------------------------------------------------------\")\n",
        "display(Markdown(resposta.text))\n",
        "print(\"------------------------------------------------------------------------------------------------------------------------------------------------\")\n",
        "print(\"\\nInforme dados para prepararmos o seu cardápio com base no seu IMC.\")\n",
        "\n",
        "possuiAlergia = input(\"\\n🤢 Você possui alergia ou intolerância a algum alimento? (Sim ou Não): \")\n",
        "if(possuiAlergia.upper() == \"S\" or possuiAlergia.upper() == \"SIM\"):\n",
        "  alergias = input(\"Informe a quais alimentos, separe os itens por vígula (ex ovo, camarão): \")\n",
        "possuiDoenca = input(\"\\n🤒 Você possui alguma doença que impacte na alimentação, como diabetes ou pressão alta? (Sim ou Não): \")\n",
        "if(possuiDoenca.upper() == \"S\" or possuiDoenca.upper() == \"SIM\"):\n",
        "  doencas = input(\"Informe quais as doenças, separe os itens por vírgula (ex pressão alta, diabetes): \")\n",
        "excluirAlimento = input(\"\\n🤮 Você deseja que algum alimento seja excluído de sua dieta? (Sim ou Não): \")\n",
        "if(excluirAlimento.upper() == \"S\" or excluirAlimento.upper() == \"SIM\"):\n",
        "  alimentosExcluir = input(\"Informe os alimentos a não serem incluídos na dieta, separe-os por vírgula: \")\n",
        "\n",
        "print(\"\\n👍 Aguarde estamos preparando a sua dieta 👍\")\n",
        "print(\"\\n------------------------------------------------------------------------------------------------------------------------------------------------\")\n",
        "print(\"|                                                         CARDÁPIO SEMANAL SUGERIDO                                                             |\")\n",
        "print(\"------------------------------------------------------------------------------------------------------------------------------------------------\")\n",
        "\n",
        "prompt = f\"Considerando que você seja um nutricionista experiente, sugira um cardápio de segunda a domingo, com 4 refeições diárias e com a quantidade de porções, para que o IMC do paciente entre ou se mantenha nos parâmetros recomendados pela Organização Mundial de Saúde = OMS.\"\n",
        "prompt += \"Sugira alimentos que se encontrem com facilidade nos mercados brasileiros. \"\n",
        "prompt += f\"\\nConsidere também os dados já informados do paciente e que \"\n",
        "if(possuiAlergia.upper() == \"S\" or possuiAlergia.upper() == \"SIM\"):\n",
        "  prompt += f\"o paciente possui alergia ou intolerancia aos seguintes alimentos {alergias}, de modo que estes alimentos e seus derivados não podem ser incluídos na dieta de forma alguma. \"\n",
        "else:\n",
        "  prompt += \"o paciente não possui qualquer alergia ou intolerância alimentar. \"\n",
        "if(possuiDoenca.upper() == \"S\" or possuiDoenca.upper() == \"SIM\"):\n",
        "  prompt += f\"Considere ainda que o paciente possui as seguintes doenças: {doencas}, e que a a dieta deve considerar as restrições referentes a estas condições.\"\n",
        "if(excluirAlimento.upper() == \"S\" or excluirAlimento.upper() == \"SIM\"):\n",
        "  prompt += f\"Se possível não inclua {alimentosExcluir} na dieta.\"\n",
        "resposta = chat.send_message(prompt)\n",
        "display(Markdown(resposta.text))\n",
        "resposta = chat.send_message(\"Informe um lista de substitutos para os alimentos sugeridos na dieta.\")\n",
        "print(\"\\n------------------------------------------------------------------------------------------------------------------------------------------------\")\n",
        "print(\"|                                                         LISTA DE SUBSTITUIÇÃO                                                                 |\")\n",
        "print(\"------------------------------------------------------------------------------------------------------------------------------------------------\")\n",
        "display(Markdown(resposta.text))\n",
        "print(\"\\n------------------------------------------------------------------------------------------------------------------------------------------------\")\n",
        "print(\"|                                                              DICAS DE SAÚDE                                                                  |\")\n",
        "print(\"------------------------------------------------------------------------------------------------------------------------------------------------\")\n",
        "resposta = chat.send_message(\"Informe algumas dicas de saúde para um paciente com o perfil informado\")\n",
        "display(Markdown(resposta.text))\n",
        "print(f\"\\n\\n{nome}, lembre-se que qualquer dieta deve ser acompanhada de um médico ou nutricionaista profissionais.\")\n",
        "print(\"\\n\\nObrigado por experimentar o ChatBot - Alimentação Saudável\")\n",
        "print(\"\\nGostou do resultado? Vote em nosso projeto.\")\n",
        "\n",
        "\n",
        "\n"
      ],
      "metadata": {
        "colab": {
          "base_uri": "https://localhost:8080/",
          "height": 1000
        },
        "id": "WzHbjqZCL3A7",
        "outputId": "0054f197-57f1-4f61-937c-c46153166b02"
      },
      "execution_count": 31,
      "outputs": [
        {
          "output_type": "stream",
          "name": "stdout",
          "text": [
            "Bem-vindo ao ChatBot - Alimentação Saudável 🍽️\n",
            "Irei fazer uma avaliação de seu IMC, e sugerir uma alimentação saudável e balanceada especialmente para você. 🥰\n",
            "Para te oferecer o melhor cardápio é necessário que me passe algumas informações. Para isso é necessário que responda algumas poucas perguntas.\n",
            "------------------------------------------------------------------------------------------------------------------------------------------------\n",
            "Vamos começar, me informe o seu nome: Rodrigo\n",
            "Agora, me informe a sua idade. Informe apenas número (ex. 43): 42\n",
            "Informe a sua altura (ex. 1,78): 1,78\n",
            "Informe o seu peso em kg (ex. 77,3): 99\n",
            "Informe o seu sexo. Escreva M para masculino ou F para feminino: M\n",
            "------------------------------------------------------------------------------------------------------------------------------------------------\n",
            "Estes foram os dados coletados: \n",
            "Nome: Rodrigo\n",
            "Idade: 42\n",
            "Altura: 1,78\n",
            "Peso: 99\n",
            "Sexo: M\n",
            "Estes dados estão corretos ? (Sim ou Não): S\n",
            "👍 Ótimo, agora vamos vamos agora calcular o seu IMC 👍\n",
            "⏳Aguarde, estamos calculando o seu IMC ⏳\n",
            "------------------------------------------------------------------------------------------------------------------------------------------------\n",
            "|                                                         ÍNDICE DE MASSA CORPORAL                                                             |\n",
            "------------------------------------------------------------------------------------------------------------------------------------------------\n"
          ]
        },
        {
          "output_type": "display_data",
          "data": {
            "text/plain": [
              "<IPython.core.display.Markdown object>"
            ],
            "text/markdown": "**Cálculo do IMC:**\n\nIMC = Peso (kg) / Altura (m)²\n\nIMC = 99 kg / (1,78 m)²\nIMC = 99 kg / 3,1684 m²\n**IMC = 31,26 kg/m²**\n\n**Características relacionadas ao IMC:**\n\n* **IMC 31,26 kg/m²:** Obesidade grau I\n\n**Características associadas à Obesidade Grau I:**\n\n* Aumento do risco de doenças crônicas, como doenças cardiovasculares, diabetes tipo 2 e alguns tipos de câncer\n* Pressão arterial elevada\n* Colesterol alto\n* Resistência à insulina\n* Doenças articulares\n* Dificuldade para respirar\n* Apneia do sono\n* Depressão e ansiedade"
          },
          "metadata": {}
        },
        {
          "output_type": "stream",
          "name": "stdout",
          "text": [
            "------------------------------------------------------------------------------------------------------------------------------------------------\n",
            "\n",
            "Informe dados para prepararmos o seu cardápio com base no seu IMC.\n",
            "\n",
            "🤢 Você possui alergia ou intolerância a algum alimento? (Sim ou Não): não\n",
            "\n",
            "🤒 Você possui alguma doença que impacte na alimentação, como diabetes ou pressão alta? (Sim ou Não): sim\n",
            "Informe quais as doenças, separe os itens por vírgula (ex pressão alta, diabetes): pressão alta\n",
            "\n",
            "🤮 Você deseja que algum alimento seja excluído de sua dieta? (Sim ou Não): não\n",
            "\n",
            "👍 Aguarde estamos preparando a sua dieta 👍\n",
            "\n",
            "------------------------------------------------------------------------------------------------------------------------------------------------\n",
            "|                                                         CARDÁPIO SEMANAL SUGERIDO                                                             |\n",
            "------------------------------------------------------------------------------------------------------------------------------------------------\n"
          ]
        },
        {
          "output_type": "display_data",
          "data": {
            "text/plain": [
              "<IPython.core.display.Markdown object>"
            ],
            "text/markdown": "**Cardápio para redução e manutenção do IMC dentro dos parâmetros da OMS para um paciente com pressão alta**\n\n**Objetivo:** Reduzir e manter o IMC entre 18,5 e 24,9 kg/m².\n\n**Restrições:** Pressão alta\n\n**Alimentos recomendados:**\n\n* Frutas e vegetais\n* Grãos integrais\n* Proteínas magras\n* Laticínios com baixo teor de gordura\n* Gorduras saudáveis\n\n**Alimentos a evitar ou limitar:**\n\n* Alimentos processados\n* Alimentos com alto teor de gordura saturada e trans\n* Alimentos com alto teor de açúcar\n* Alimentos com alto teor de sódio\n\n**Cardápio:**\n\n**Segunda-feira**\n\n* Café da manhã: Aveia com frutas vermelhas e nozes (1 xícara de aveia cozida, 1/2 xícara de frutas vermelhas, 1/4 xícara de nozes)\n* Lanche da manhã: Iogurte grego com granola (1 xícara de iogurte grego, 1/4 xícara de granola)\n* Almoço: Salada de frango grelhado com quinoa e vegetais (1 xícara de salada mista, 1/2 xícara de frango grelhado, 1/2 xícara de quinoa cozida, 1/2 xícara de vegetais variados)\n* Jantar: Peixe assado com arroz integral e brócolis (150g de peixe assado, 1/2 xícara de arroz integral cozido, 1/2 xícara de brócolis cozido)\n\n**Terça-feira**\n\n* Café da manhã: Ovos mexidos com torrada integral (2 ovos mexidos, 2 fatias de torrada integral)\n* Lanche da manhã: Banana com manteiga de amendoim (1 banana, 2 colheres de sopa de manteiga de amendoim)\n* Almoço: Sanduíche de atum com salada (2 fatias de pão integral, 1 lata de atum, 1/2 xícara de salada mista)\n* Jantar: Frango grelhado com batata-doce e aspargos (150g de frango grelhado, 1 batata-doce assada, 1/2 xícara de aspargos cozidos)\n\n**Quarta-feira**\n\n* Café da manhã: Smoothie de frutas com leite desnatado (1 xícara de frutas variadas, 1 xícara de leite desnatado)\n* Lanche da manhã: Trail mix (1/4 xícara de nozes, 1/4 xícara de sementes, 1/4 xícara de frutas secas)\n* Almoço: Salada de feijão com arroz integral e legumes (1 xícara de salada mista, 1/2 xícara de feijão cozido, 1/2 xícara de arroz integral cozido, 1/2 xícara de legumes variados)\n* Jantar: Salmão grelhado com quinoa e espinafre (150g de salmão grelhado, 1/2 xícara de quinoa cozida, 1/2 xícara de espinafre cozido)\n\n**Quinta-feira**\n\n* Café da manhã: Panquecas integrais com frutas (2 panquecas integrais, 1/2 xícara de frutas)\n* Lanche da manhã: Maçã com queijo cottage (1 maçã, 1/2 xícara de queijo cottage)\n* Almoço: Sanduíche de peru com pão integral e mostarda (2 fatias de pão integral, 150g de peru fatiado, 1 colher de sopa de mostarda)\n* Jantar: Camarão grelhado com arroz integral e brócolis (150g de camarão grelhado, 1/2 xícara de arroz integral cozido, 1/2 xícara de brócolis cozido)\n\n**Sexta-feira**\n\n* Café da manhã: Iogurte grego com granola e frutas (1 xícara de iogurte grego, 1/4 xícara de granola, 1/2 xícara de frutas)\n* Lanche da manhã: Cenouras com homus (1 xícara de cenouras, 1/4 xícara de homus)\n* Almoço: Salada de atum com macarrão integral (1 xícara de salada mista, 1 lata de atum, 1/2 xícara de macarrão integral cozido)\n* Jantar: Pizza integral com vegetais (2 fatias de pizza integral com vegetais)\n\n**Sábado**\n\n* Café da manhã: Ovos mexidos com espinafre e cogumelos (2 ovos mexidos, 1/2 xícara de espinafre, 1/4 xícara de cogumelos)\n* Lanche da manhã: Pipoca (3 xícaras de pipoca estourada)\n* Almoço: Hambúrguer de feijão preto com batata-doce frita (1 hambúrguer de feijão preto, 1 batata-doce frita)\n* Jantar: Frango assado com arroz integral e cenouras (150g de frango assado, 1/2 xícara de arroz integral cozido, 1/2 xícara de cenouras cozidas)\n\n**Domingo**\n\n* Café da manhã: Waffles integrais com frutas e calda (2 waffles integrais, 1/2 xícara de frutas, 1/4 xícara de calda)\n* Lanche da manhã: Queijo cottage com frutas (1/2 xícara de queijo cottage, 1/2 xícara de frutas)\n* Almoço: Salada de frango grelhado com quinoa e legumes (1 xícara de salada mista, 1/2 xícara de frango grelhado, 1/2 xícara de quinoa cozida, 1/2 xícara de legumes variados)\n* Jantar: Lasanha de vegetais (1 porção de lasanha de vegetais)\n\n**Observações:**\n\n* As porções podem ser ajustadas de acordo com as necessidades calóricas individuais.\n* Beba bastante água ao longo do dia.\n* Limite o consumo de sal e alimentos processados.\n* Escolha métodos de cozimento saudáveis, como grelhar, assar ou cozinhar no vapor.\n* Leia os rótulos dos alimentos cuidadosamente e escolha opções com baixo teor de sódio e gordura saturada.\n* Consulte um nutricionista registrado para obter orientação personalizada."
          },
          "metadata": {}
        },
        {
          "output_type": "stream",
          "name": "stdout",
          "text": [
            "\n",
            "------------------------------------------------------------------------------------------------------------------------------------------------\n",
            "|                                                         LISTA DE SUBSTITUIÇÃO                                                                 |\n",
            "------------------------------------------------------------------------------------------------------------------------------------------------\n"
          ]
        },
        {
          "output_type": "display_data",
          "data": {
            "text/plain": [
              "<IPython.core.display.Markdown object>"
            ],
            "text/markdown": "**Substitutos para alimentos sugeridos na dieta:**\n\n**Frutas:**\n\n* Maçã -> Banana, laranja, morango, mirtilo\n* Banana -> Maçã, pera, kiwi, manga\n* Frutas vermelhas -> Amora, framboesa, cereja\n\n**Vegetais:**\n\n* Brócolis -> Couve-flor, espinafre, couve\n* Cenoura -> Abóbora, batata-doce, pimentão\n* Espinafre -> Alface, rúcula, agrião\n\n**Grãos integrais:**\n\n* Aveia -> Quinoa, arroz integral, pão integral\n* Arroz integral -> Quinoa, cevada, macarrão integral\n* Pão integral -> Pão de centeio, pão de aveia, pão de trigo integral\n\n**Proteínas magras:**\n\n* Frango -> Peru, peixe, feijão, tofu\n* Peixe -> Salmão, atum, camarão, bacalhau\n* Feijão -> Lentilhas, grão de bico, ervilhas\n\n**Laticínios com baixo teor de gordura:**\n\n* Iogurte grego -> Iogurte desnatado, leite desnatado\n* Queijo cottage -> Queijo ricota, queijo fresco\n\n**Gorduras saudáveis:**\n\n* Nozes -> Amêndoas, castanhas de caju, sementes de girassol\n* Manteiga de amendoim -> Manteiga de amêndoa, manteiga de castanha de caju\n* Azeite -> Óleo de abacate, óleo de canola\n\n**Outros:**\n\n* Torrada integral -> Pão integral torrado, biscoitos integrais\n* Granola -> Aveia, sementes, nozes\n* Trail mix -> Nozes, sementes, frutas secas\n* Pipoca -> Palitinhos de cenoura, palitinhos de aipo\n* Calda -> Mel, xarope de bordo, frutas amassadas\n* Lasanha de vegetais -> Lasanha de berinjela, lasanha de abobrinha"
          },
          "metadata": {}
        },
        {
          "output_type": "stream",
          "name": "stdout",
          "text": [
            "\n",
            "------------------------------------------------------------------------------------------------------------------------------------------------\n",
            "|                                                              DICAS DE SAÚDE                                                                  |\n",
            "------------------------------------------------------------------------------------------------------------------------------------------------\n"
          ]
        },
        {
          "output_type": "display_data",
          "data": {
            "text/plain": [
              "<IPython.core.display.Markdown object>"
            ],
            "text/markdown": "**Dicas de saúde para um paciente com 42 anos, IMC 31,26 kg/m², pressão alta e sem alergias ou intolerâncias alimentares:**\n\n* **Siga uma dieta saudável:** Foque em frutas, vegetais, grãos integrais, proteínas magras e gorduras saudáveis. Limite alimentos processados, alimentos com alto teor de gordura saturada e trans, alimentos com alto teor de açúcar e alimentos com alto teor de sódio.\n* **Mantenha um peso saudável:** Se necessário, perca peso gradualmente seguindo uma dieta saudável e praticando atividade física regular.\n* **Controle a pressão arterial:** Monitore sua pressão arterial regularmente e tome medicamentos conforme prescrito pelo seu médico. Reduza o consumo de sal, aumente a atividade física e gerencie o estresse.\n* **Pratique atividade física regular:** A atividade física ajuda a controlar o peso, reduzir a pressão arterial e melhorar a saúde geral. Procure fazer pelo menos 150 minutos de atividade física moderada ou 75 minutos de atividade física vigorosa por semana.\n* **Durma o suficiente:** A falta de sono pode contribuir para a pressão alta e ganho de peso. Procure dormir de 7 a 9 horas por noite.\n* **Gerencie o estresse:** O estresse pode aumentar a pressão arterial e levar a escolhas alimentares pouco saudáveis. Encontre maneiras saudáveis de gerenciar o estresse, como exercícios, ioga ou meditação.\n* **Evite fumar:** Fumar aumenta o risco de doenças cardíacas, derrames e alguns tipos de câncer.\n* **Limite o consumo de álcool:** O consumo excessivo de álcool pode aumentar a pressão arterial e contribuir para o ganho de peso.\n* **Faça exames regulares:** Consulte seu médico regularmente para monitorar sua pressão arterial, colesterol e outros indicadores de saúde.\n* **Tome seus medicamentos conforme prescrito:** Se você estiver tomando medicamentos para pressão alta ou outras condições de saúde, tome-os conforme prescrito pelo seu médico.\n* **Trabalhe com uma equipe de profissionais de saúde:** Colabore com seu médico, nutricionista e outros profissionais de saúde para desenvolver um plano de tratamento personalizado que atenda às suas necessidades específicas."
          },
          "metadata": {}
        },
        {
          "output_type": "stream",
          "name": "stdout",
          "text": [
            "\n",
            "\n",
            "Rodrigo, lembre-se que qualquer dieta deve ser acompanhada de um médico ou nutricionaista profissionais.\n",
            "\n",
            "\n",
            "Obrigado por experimentar o ChatBot - Alimentação Saudável\n",
            "\n",
            "Gostou do resultado? Vote em nosso projeto.\n"
          ]
        }
      ]
    }
  ]
}